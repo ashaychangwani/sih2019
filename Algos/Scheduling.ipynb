{
 "cells": [
  {
   "cell_type": "code",
   "execution_count": 23,
   "metadata": {},
   "outputs": [],
   "source": [
    "import sqlite3\n",
    "\n",
    "connection=sqlite3.connect(\"GullyBois.db\")\n",
    "cursor=connection.cursor()"
   ]
  },
  {
   "cell_type": "code",
   "execution_count": 40,
   "metadata": {},
   "outputs": [
    {
     "data": {
      "text/plain": [
       "<sqlite3.Cursor at 0x2678c73ece0>"
      ]
     },
     "execution_count": 40,
     "metadata": {},
     "output_type": "execute_result"
    }
   ],
   "source": [
    "query='''DROP TABLE AssetRegister;'''\n",
    "cursor.execute(query)"
   ]
  },
  {
   "cell_type": "code",
   "execution_count": 41,
   "metadata": {},
   "outputs": [],
   "source": [
    "query=''' CREATE TABLE AssetRegister (machineId INTEGER PRIMARY KEY ,name VARCHAR(20) NOT NULL,facility VARCHAR(20) NOT NULL,factory VARCHAR(20),productionLine VARCHAR(20));\n",
    "'''"
   ]
  },
  {
   "cell_type": "code",
   "execution_count": 42,
   "metadata": {},
   "outputs": [
    {
     "data": {
      "text/plain": [
       "<sqlite3.Cursor at 0x2678c73ece0>"
      ]
     },
     "execution_count": 42,
     "metadata": {},
     "output_type": "execute_result"
    }
   ],
   "source": [
    "cursor.execute(query)"
   ]
  },
  {
   "cell_type": "code",
   "execution_count": 43,
   "metadata": {},
   "outputs": [
    {
     "data": {
      "text/plain": [
       "<sqlite3.Cursor at 0x2678c73ece0>"
      ]
     },
     "execution_count": 43,
     "metadata": {},
     "output_type": "execute_result"
    }
   ],
   "source": [
    "query='''INSERT INTO AssetRegister (machineId,name,facility,factory,productionLine) VALUES (1,\"abc\",\"mumbai\",\"ma\",\"ma1\");\n",
    "'''\n",
    "cursor.execute(query)\n",
    "query='''INSERT INTO AssetRegister (machineId,name,facility,factory,productionLine) VALUES (2,\"lmn\",\"mumbai\",\"ma\",\"ma2\");\n",
    "'''\n",
    "cursor.execute(query)\n",
    "query='''INSERT INTO AssetRegister (machineId,name,facility,factory,productionLine) VALUES (3,\"abc\",\"pune\",\"pa\",\"pa1\");\n",
    "'''\n",
    "cursor.execute(query)\n",
    "query='''INSERT INTO AssetRegister (machineId,name,facility,factory,productionLine) VALUES (4,\"xyz\",\"nagpur\",\"na\",\"na1\");\n",
    "'''\n",
    "cursor.execute(query)\n",
    "query='''INSERT INTO AssetRegister (machineId,name,facility,factory,productionLine) VALUES (5,\"hjk\",\"nagpur\",\"na\",\"na2\");\n",
    "'''\n",
    "cursor.execute(query)\n",
    "query='''INSERT INTO AssetRegister (machineId,name,facility,factory,productionLine) VALUES (6,\"abc\",\"mumbai\",\"ma\",\"ma1\");'''\n",
    "cursor.execute(query)"
   ]
  },
  {
   "cell_type": "code",
   "execution_count": 5,
   "metadata": {},
   "outputs": [
    {
     "data": {
      "text/plain": [
       "<sqlite3.Cursor at 0x2678c328b90>"
      ]
     },
     "execution_count": 5,
     "metadata": {},
     "output_type": "execute_result"
    }
   ],
   "source": [
    "query=''' CREATE TABLE Spare (machineId INTEGER ,componentName VARCHAR(20) NOT NULL,sparesCount INTEGER NOT NULL);\n",
    "'''\n",
    "cursor.execute(query)"
   ]
  },
  {
   "cell_type": "code",
   "execution_count": 6,
   "metadata": {},
   "outputs": [
    {
     "data": {
      "text/plain": [
       "<sqlite3.Cursor at 0x2678c328b90>"
      ]
     },
     "execution_count": 6,
     "metadata": {},
     "output_type": "execute_result"
    }
   ],
   "source": [
    "query='''INSERT INTO Spare (machineId,componentName,sparesCount) VALUES (1,\"one_1\",3);\n",
    "'''\n",
    "cursor.execute(query)\n",
    "query='''INSERT INTO Spare (machineId,componentName,sparesCount) VALUES (1,\"one_2\",5);\n",
    "'''\n",
    "cursor.execute(query)\n",
    "query='''INSERT INTO Spare (machineId,componentName,sparesCount) VALUES (1,\"one_3\",1);\n",
    "'''\n",
    "cursor.execute(query)\n",
    "query='''INSERT INTO Spare (machineId,componentName,sparesCount) VALUES (2,\"two_1\",7);\n",
    "'''\n",
    "cursor.execute(query)\n",
    "query='''INSERT INTO Spare (machineId,componentName,sparesCount) VALUES (2,\"two_2\",0);\n",
    "'''\n",
    "cursor.execute(query)\n",
    "query='''INSERT INTO Spare (machineId,componentName,sparesCount) VALUES (3,\"three_1\",2);\n",
    "'''\n",
    "cursor.execute(query)\n",
    "query='''INSERT INTO Spare (machineId,componentName,sparesCount) VALUES (4,\"four_1\",7);\n",
    "'''\n",
    "cursor.execute(query)\n",
    "query='''INSERT INTO Spare (machineId,componentName,sparesCount) VALUES (4,\"four_2\",0);\n",
    "'''\n",
    "cursor.execute(query)\n",
    "query='''INSERT INTO Spare (machineId,componentName,sparesCount) VALUES (4,\"four_3\",4);\n",
    "'''\n",
    "cursor.execute(query)\n",
    "query='''INSERT INTO Spare (machineId,componentName,sparesCount) VALUES (5,\"five_1\",9);\n",
    "'''\n",
    "cursor.execute(query)"
   ]
  },
  {
   "cell_type": "code",
   "execution_count": 7,
   "metadata": {},
   "outputs": [
    {
     "data": {
      "text/plain": [
       "<sqlite3.Cursor at 0x2678c328b90>"
      ]
     },
     "execution_count": 7,
     "metadata": {},
     "output_type": "execute_result"
    }
   ],
   "source": [
    "query=''' CREATE TABLE AMC (machineId INTEGER PRIMARY KEY,supplier VARCHAR(20) NOT NULL);\n",
    "'''\n",
    "cursor.execute(query)"
   ]
  },
  {
   "cell_type": "code",
   "execution_count": 8,
   "metadata": {},
   "outputs": [
    {
     "data": {
      "text/plain": [
       "<sqlite3.Cursor at 0x2678c328b90>"
      ]
     },
     "execution_count": 8,
     "metadata": {},
     "output_type": "execute_result"
    }
   ],
   "source": [
    "query='''INSERT INTO AMC (machineId,supplier) VALUES (1,\"A\");\n",
    "'''\n",
    "cursor.execute(query)\n",
    "query='''INSERT INTO AMC (machineId,supplier) VALUES (2,\"A\");\n",
    "'''\n",
    "cursor.execute(query)\n",
    "query='''INSERT INTO AMC (machineId,supplier) VALUES (3,\"B\");\n",
    "'''\n",
    "cursor.execute(query)\n",
    "query='''INSERT INTO AMC (machineId,supplier) VALUES (4,\"C\");\n",
    "'''\n",
    "cursor.execute(query)\n",
    "query='''INSERT INTO AMC (machineId,supplier) VALUES (5,\"D\");\n",
    "'''\n",
    "cursor.execute(query)"
   ]
  },
  {
   "cell_type": "code",
   "execution_count": 20,
   "metadata": {},
   "outputs": [
    {
     "data": {
      "text/plain": [
       "<sqlite3.Cursor at 0x2678c328b90>"
      ]
     },
     "execution_count": 20,
     "metadata": {},
     "output_type": "execute_result"
    }
   ],
   "source": [
    "import datetime\n",
    "query='''CREATE TABLE MaintenanceLog (machineId INTEGER, [timestamp] timestamp, details VARCHAR(200) NOT NULL, comments VARCHAR(200));'''\n",
    "cursor.execute(query)"
   ]
  },
  {
   "cell_type": "code",
   "execution_count": 21,
   "metadata": {},
   "outputs": [
    {
     "data": {
      "text/plain": [
       "<sqlite3.Cursor at 0x2678c328b90>"
      ]
     },
     "execution_count": 21,
     "metadata": {},
     "output_type": "execute_result"
    }
   ],
   "source": [
    "query='''INSERT INTO MaintenanceLog (machineId,timestamp,details,comments) VALUES (1,'2015-01-13 13:40:31',\"ball bearing replaced\",\"All ball bearings changed successfully\");\n",
    "'''\n",
    "cursor.execute(query)\n",
    "query='''INSERT INTO MaintenanceLog (machineId,timestamp,details,comments) VALUES (1,'2015-02-25 17:21:01',\"gear replaced\",\"Gear size 3/4 changed\");\n",
    "'''\n",
    "cursor.execute(query)\n",
    "query='''INSERT INTO MaintenanceLog (machineId,timestamp,details,comments) VALUES (3,'2015-04-07 09:05:26',\"spring changed\",\"Spring of gear shaft changed successfully\");\n",
    "'''\n",
    "cursor.execute(query)\n",
    "query='''INSERT INTO MaintenanceLog (machineId,timestamp,details,comments) VALUES (4,'2015-04-08 15:00:01',\"lubes applied\",\"Lubes applied wherever necessary\");\n",
    "'''\n",
    "cursor.execute(query)"
   ]
  },
  {
   "cell_type": "code",
   "execution_count": 22,
   "metadata": {},
   "outputs": [
    {
     "data": {
      "text/plain": [
       "<sqlite3.Cursor at 0x2678c328b90>"
      ]
     },
     "execution_count": 22,
     "metadata": {},
     "output_type": "execute_result"
    }
   ],
   "source": [
    "query=''' CREATE TABLE Usage (machineId INTEGER PRIMARY KEY,hours INTEGER NOT NULL);\n",
    "'''\n",
    "cursor.execute(query)"
   ]
  },
  {
   "cell_type": "code",
   "execution_count": 25,
   "metadata": {},
   "outputs": [
    {
     "data": {
      "text/plain": [
       "<sqlite3.Cursor at 0x2678c328b90>"
      ]
     },
     "execution_count": 25,
     "metadata": {},
     "output_type": "execute_result"
    }
   ],
   "source": [
    "query='''INSERT INTO Usage (machineId,hours) VALUES (1,3);\n",
    "'''\n",
    "cursor.execute(query)\n",
    "query='''INSERT INTO Usage (machineId,hours) VALUES (2,0);\n",
    "'''\n",
    "cursor.execute(query)\n",
    "query='''INSERT INTO Usage (machineId,hours) VALUES (3,4);\n",
    "'''\n",
    "cursor.execute(query)\n",
    "query='''INSERT INTO Usage (machineId,hours) VALUES (4,23);\n",
    "'''\n",
    "cursor.execute(query)\n",
    "query='''INSERT INTO Usage (machineId,hours) VALUES (5,9);\n",
    "'''\n",
    "cursor.execute(query)"
   ]
  },
  {
   "cell_type": "code",
   "execution_count": 46,
   "metadata": {},
   "outputs": [],
   "source": [
    "connection.commit()\n",
    "connection.close()"
   ]
  },
  {
   "cell_type": "code",
   "execution_count": 47,
   "metadata": {},
   "outputs": [],
   "source": [
    "connection=sqlite3.connect(\"GullyBois.db\")\n",
    "cursor=connection.cursor()"
   ]
  },
  {
   "cell_type": "code",
   "execution_count": 55,
   "metadata": {},
   "outputs": [],
   "source": [
    "def impactChecker():  \n",
    "    connection=sqlite3.connect(\"GullyBois.db\")\n",
    "    cursor=connection.cursor()\n",
    "    machineName=\"abc\" # we need to write a query for all this as all we will get is machine id\n",
    "    facilityName=\"mumbai\"\n",
    "    factoryName=\"ma\"\n",
    "    productionLine=\"ma1\" # all the above data is from the predictive maintenance saying that this machine is getting spoilt.\n",
    "    query=\"SELECT COUNT(*) FROM AssetRegister WHERE name='\"+machineName+\"' AND facility='\"+facilityName+\"' AND factory='\"+factoryName+\"' AND productionLine='\"+productionLine+\"';\"\n",
    "    cursor.execute(query)\n",
    "    result=cursor.fetchall()\n",
    "    count=result[0][0]\n",
    "    impact=float(1/count)*100 #calculating the impact percentage. i.e 1 spoilt machine / number of same machines.\n",
    "    if impact > 35: # threshold can be changed according to the user or worklaod.\n",
    "        print(\"Hight Impact\")\n",
    "    else:\n",
    "        print(\"Low Impact\")\n",
    "    connection.commit()\n",
    "    connection.close()\n",
    "\n"
   ]
  },
  {
   "cell_type": "code",
   "execution_count": 73,
   "metadata": {},
   "outputs": [
    {
     "name": "stdout",
     "output_type": "stream",
     "text": [
      "Spare parts are available\n"
     ]
    }
   ],
   "source": [
    "def checkSpares(machineId=1,componentName=\"one_2\"):\n",
    "    connection=sqlite3.connect(\"GullyBois.db\")\n",
    "    cursor=connection.cursor()\n",
    "    query = \"SELECT sparesCount FROM Spare WHERE machineId=\"+str(machineId)+\" AND componentName='\"+componentName+\"';\"\n",
    "    cursor.execute(query)\n",
    "    result = cursor.fetchone()\n",
    "    if(result[0] > 0):\n",
    "        print(\"Spare parts are available\")\n",
    "        scheduleMaintenance()\n",
    "    else:\n",
    "        placeOrder(componentid)\n",
    "    connection.commit()\n",
    "    connection.close()\n"
   ]
  },
  {
   "cell_type": "code",
   "execution_count": null,
   "metadata": {},
   "outputs": [],
   "source": [
    "def placeOrder(componentid): # If checkSpares() returns false, we need to place an order for a specific component.\n",
    "    \"\"\"\"Send request to the company for the extra part \"\"\"\n",
    "    connection=sqlite3.connect(\"GullyBois.db\")\n",
    "    cursor=connection.cursor()\n",
    "    print(\"Order has been placed for an additional component.\") \n",
    "    print(\"Continue with normal use of the machine until the spare component is available.\")\n",
    "    print(\"Once the spare component is available, schedule a maintenance.\")\n",
    "    print(\"Check when the component will arrive and schedule maintenance after that.\")\n",
    "    query = \"UPDATE spare SET sparesCount =5 WHERE machineId=\"+str(machineId)+\" AND componentName='\"+componentName+\"';\"\n",
    "    cursor.execute(query)\n",
    "    connection.commit()\n",
    "    connection.close()\n",
    "    scheduleMaintenance()"
   ]
  },
  {
   "cell_type": "code",
   "execution_count": null,
   "metadata": {},
   "outputs": [],
   "source": [
    "def scheduleMaintenance(machineId): # If you have spares and if you've spares in stock, schedule a maintenance.\n",
    "    \"\"\"Get impact of the component, compare it against different work orders already placed based on the impact, then schedule the it.\n",
    "    Check the timetable to find an empty slot, compare it against the previous existing maintenance orders.\n",
    "    Group common suppliers for components that need repair and schedule their maintenance around the same time\"\"\"\n",
    "    connection=sqlite3.connect(\"GullyBois.db\")\n",
    "    cursor=connection.cursor()\n",
    "\n",
    "    cursor.execute(\"SELECT * FROM timetable\")\n",
    "    results = cursor.fetchall()\n",
    "\n",
    "    freeslot = findFreeSlot(machineId)\n",
    "    print(\"Available free slot is: \",freeslot) \n",
    "\n",
    "    commonsupplierslot = commonSuppliers()\n",
    "    \n",
    "    connection.commit()\n",
    "    connection.close()"
   ]
  },
  {
   "cell_type": "code",
   "execution_count": null,
   "metadata": {},
   "outputs": [],
   "source": [
    "def findFreeSlot():\n",
    "    "
   ]
  },
  {
   "cell_type": "code",
   "execution_count": 4,
   "metadata": {},
   "outputs": [
    {
     "data": {
      "text/plain": [
       "<sqlite3.Cursor at 0x2ccfa948b20>"
      ]
     },
     "execution_count": 4,
     "metadata": {},
     "output_type": "execute_result"
    }
   ],
   "source": [
    "query='''INSERT INTO AMC (machineId,supplier) VALUES (6,\"A\");\n",
    "'''\n",
    "cursor.execute(query)"
   ]
  },
  {
   "cell_type": "code",
   "execution_count": null,
   "metadata": {},
   "outputs": [],
   "source": [
    "query=''' CREATE TABLE PendingMaintenance(machineId INTEGER PRIMARY KEY ,facility VARCHAR(20) NOT NULL,factory VARCHAR(20) NOT NULL, productionLine VARCHAR(20) NOT NULL, supplier VARCHAR(20) NOT NULL,[timestamp] timestamp,details VARCHAR(20));\n",
    "'''\n",
    "cursor.execute(query)"
   ]
  },
  {
   "cell_type": "code",
   "execution_count": 26,
   "metadata": {},
   "outputs": [
    {
     "name": "stdout",
     "output_type": "stream",
     "text": [
      "[('A',)]\n"
     ]
    }
   ],
   "source": [
    "#def commonSuppliers(machineId): #we will get machineId as an input\n",
    "import datetime\n",
    "connection=sqlite3.connect(\"GullyBois.db\")\n",
    "cursor=connection.cursor()\n",
    "machineId=1\n",
    "query = \"SELECT * FROM pendingMaintenance WHERE machineId='\"+str(machineId)+\"';\"\n",
    "cursor.execute(query)\n",
    "result=cursor.fetchall()\n",
    "supplier = result[0][4]\n",
    "timestamp = result[0][5]\n",
    "facility = result[0][1]\n",
    "factory = result[0][2]\n",
    "query = \"SELECT * FROM pendingMaintenance WHERE supplier='\"+supplier+\"' AND facility='\"+facility+\"' AND factory='\"+factory+\"';\"\n",
    "cursor.execute(query)\n",
    "result = cursor.fetchall()\n",
    "time=[]\n",
    "\n",
    "for i in range(len(result)):\n",
    "    time.append(result[i][5])\n",
    "\n",
    "for i in range(len(time)):\n",
    "    t=time[i]\n",
    "    if timestamp == t:\n",
    "        continue \n",
    "    if timestamp[0:4] == t[0:4] and timestamp[5:7] == t[5:7]:\n",
    "        if a == b:\n",
    "            print(\"hello\")\n",
    "        else:\n",
    "            if a > b:\n",
    "                if a - b <7:\n",
    "                    print(\"hello\")\n",
    "            else:\n",
    "                if b - a <7:\n",
    "                    print(\"hello\")\n",
    "                \n",
    "    elif timestamp[0:4] == t[0:4]:\n",
    "        if int(timestamp[5:7]) > int(t[5:7]):\n",
    "            if(int(timestamp[5:7]) - int(t[5:7]) == 1):\n",
    "                if a > b:\n",
    "                    if a - b > 24:\n",
    "                        print(\"hello\")\n",
    "                else:\n",
    "                    if b - a > 24:\n",
    "                        print(\"hello\")\n",
    "        else:\n",
    "            if(int(t[5:7]) - int(timestamp[5:7]) == 1):\n",
    "                if a > b:\n",
    "                    if a - b > 24:\n",
    "                        print(\"hello\")\n",
    "                else:\n",
    "                    if b - a > 24:\n",
    "                        print(\"hello\")\n",
    "#schedule maintenance of result[i] along with machine whose maintenance is already scheduled where ever printed hello."
   ]
  },
  {
   "cell_type": "code",
   "execution_count": 50,
   "metadata": {},
   "outputs": [
    {
     "name": "stdout",
     "output_type": "stream",
     "text": [
      "mark 1\n"
     ]
    }
   ],
   "source": [
    "timestamp = \"2015-01-31 13:40:31\"\n",
    "t = \"2015-02-09 13:40:31\"\n",
    "a=int(timestamp[8:10])\n",
    "b=int(t[8:10])\n",
    "\n",
    "if timestamp[0:4] == t[0:4] and timestamp[5:7] == t[5:7]:\n",
    "    if a == b:\n",
    "        print(\"hello\")\n",
    "    else:\n",
    "        if a > b:\n",
    "            if a - b <7:\n",
    "                print(\"hello\")\n",
    "        else:\n",
    "            if b - a <7:\n",
    "                print(\"hello\")\n",
    "                \n",
    "elif timestamp[0:4] == t[0:4]:\n",
    "    if int(timestamp[5:7]) > int(t[5:7]):\n",
    "        if(int(timestamp[5:7]) - int(t[5:7]) == 1):\n",
    "            if a > b:\n",
    "                if a - b > 24:\n",
    "                    print(\"hello\")\n",
    "            else:\n",
    "                if b - a > 24:\n",
    "                    print(\"hello\")\n",
    "    else:\n",
    "        if(int(t[5:7]) - int(timestamp[5:7]) == 1):\n",
    "            if a > b:\n",
    "                if a - b > 24:\n",
    "                    print(\"hello\")\n",
    "            else:\n",
    "                if b - a > 24:\n",
    "                    print(\"hello\")"
   ]
  },
  {
   "cell_type": "code",
   "execution_count": 21,
   "metadata": {},
   "outputs": [],
   "source": [
    "connection.commit()\n",
    "connection.close()"
   ]
  },
  {
   "cell_type": "code",
   "execution_count": 20,
   "metadata": {},
   "outputs": [
    {
     "ename": "OperationalError",
     "evalue": "database is locked",
     "output_type": "error",
     "traceback": [
      "\u001b[1;31m---------------------------------------------------------------------------\u001b[0m",
      "\u001b[1;31mOperationalError\u001b[0m                          Traceback (most recent call last)",
      "\u001b[1;32m<ipython-input-20-c3b2c4dce217>\u001b[0m in \u001b[0;36m<module>\u001b[1;34m\u001b[0m\n\u001b[0;32m      3\u001b[0m \u001b[0mcursor\u001b[0m\u001b[1;33m=\u001b[0m\u001b[0mconnection\u001b[0m\u001b[1;33m.\u001b[0m\u001b[0mcursor\u001b[0m\u001b[1;33m(\u001b[0m\u001b[1;33m)\u001b[0m\u001b[1;33m\u001b[0m\u001b[1;33m\u001b[0m\u001b[0m\n\u001b[0;32m      4\u001b[0m \u001b[0mquery\u001b[0m \u001b[1;33m=\u001b[0m \u001b[1;34m\"DROP TABLE TimeTable;\"\u001b[0m\u001b[1;33m\u001b[0m\u001b[1;33m\u001b[0m\u001b[0m\n\u001b[1;32m----> 5\u001b[1;33m \u001b[0mcursor\u001b[0m\u001b[1;33m.\u001b[0m\u001b[0mexecute\u001b[0m\u001b[1;33m(\u001b[0m\u001b[0mquery\u001b[0m\u001b[1;33m)\u001b[0m\u001b[1;33m\u001b[0m\u001b[1;33m\u001b[0m\u001b[0m\n\u001b[0m",
      "\u001b[1;31mOperationalError\u001b[0m: database is locked"
     ]
    }
   ],
   "source": [
    "import sqlite3\n",
    "connection=sqlite3.connect(\"GullyBois.db\")\n",
    "cursor=connection.cursor()\n",
    "query = \"DROP TABLE TimeTable;\"\n",
    "cursor.execute(query)"
   ]
  },
  {
   "cell_type": "code",
   "execution_count": 14,
   "metadata": {},
   "outputs": [
    {
     "ename": "OperationalError",
     "evalue": "table TimeTable already exists",
     "output_type": "error",
     "traceback": [
      "\u001b[1;31m---------------------------------------------------------------------------\u001b[0m",
      "\u001b[1;31mOperationalError\u001b[0m                          Traceback (most recent call last)",
      "\u001b[1;32m<ipython-input-14-0f0efee731b9>\u001b[0m in \u001b[0;36m<module>\u001b[1;34m\u001b[0m\n\u001b[0;32m      3\u001b[0m \u001b[0mcursor\u001b[0m\u001b[1;33m=\u001b[0m\u001b[0mconnection\u001b[0m\u001b[1;33m.\u001b[0m\u001b[0mcursor\u001b[0m\u001b[1;33m(\u001b[0m\u001b[1;33m)\u001b[0m\u001b[1;33m\u001b[0m\u001b[1;33m\u001b[0m\u001b[0m\n\u001b[0;32m      4\u001b[0m \u001b[0mquery\u001b[0m \u001b[1;33m=\u001b[0m \u001b[1;34m\"CREATE TABLE TimeTable(machineId INTEGER NOT NULL, [timestamp] timestamp, code INTEGER NOT NULL);\"\u001b[0m\u001b[1;33m\u001b[0m\u001b[1;33m\u001b[0m\u001b[0m\n\u001b[1;32m----> 5\u001b[1;33m \u001b[0mcursor\u001b[0m\u001b[1;33m.\u001b[0m\u001b[0mexecute\u001b[0m\u001b[1;33m(\u001b[0m\u001b[0mquery\u001b[0m\u001b[1;33m)\u001b[0m\u001b[1;33m\u001b[0m\u001b[1;33m\u001b[0m\u001b[0m\n\u001b[0m",
      "\u001b[1;31mOperationalError\u001b[0m: table TimeTable already exists"
     ]
    }
   ],
   "source": [
    "import sqlite3\n",
    "connection=sqlite3.connect(\"GullyBois.db\")\n",
    "cursor=connection.cursor()\n",
    "query = \"CREATE TABLE TimeTable(machineId INTEGER NOT NULL, [timestamp] timestamp, code INTEGER NOT NULL);\"\n",
    "cursor.execute(query)"
   ]
  },
  {
   "cell_type": "code",
   "execution_count": 7,
   "metadata": {},
   "outputs": [
    {
     "data": {
      "text/plain": [
       "<sqlite3.Cursor at 0x1f8f3e2eb90>"
      ]
     },
     "execution_count": 7,
     "metadata": {},
     "output_type": "execute_result"
    }
   ],
   "source": [
    "query = \"INSERT INTO TimeTable (machineId,timestamp,code) VALUES (1, '2019-03-09 13:00:00', 1);\"\n",
    "cursor.execute(query)"
   ]
  },
  {
   "cell_type": "code",
   "execution_count": 8,
   "metadata": {},
   "outputs": [
    {
     "data": {
      "text/plain": [
       "<sqlite3.Cursor at 0x1f8f3e2eb90>"
      ]
     },
     "execution_count": 8,
     "metadata": {},
     "output_type": "execute_result"
    }
   ],
   "source": [
    "query = \"INSERT INTO TimeTable (machineId,timestamp,code) VALUES (1, '2019-05-09 13:00:00', 0);\"\n",
    "cursor.execute(query)"
   ]
  },
  {
   "cell_type": "code",
   "execution_count": 9,
   "metadata": {},
   "outputs": [
    {
     "data": {
      "text/plain": [
       "<sqlite3.Cursor at 0x1f8f3e2eb90>"
      ]
     },
     "execution_count": 9,
     "metadata": {},
     "output_type": "execute_result"
    }
   ],
   "source": [
    "query = \"INSERT INTO TimeTable (machineId,timestamp,code) VALUES (2, '2019-05-10 13:00:00', 2);\"\n",
    "cursor.execute(query)"
   ]
  },
  {
   "cell_type": "code",
   "execution_count": 13,
   "metadata": {},
   "outputs": [
    {
     "name": "stdout",
     "output_type": "stream",
     "text": [
      "None\n"
     ]
    }
   ],
   "source": [
    "#def findFreeSlot(machineId):\n",
    "import sqlite3\n",
    "connection=sqlite3.connect(\"GullyBois.db\")\n",
    "cursor=connection.cursor()\n",
    "query = \"SELECT * FROM  TimeTable;\"\n",
    "cursor.execute(query)\n",
    "result = cursor.fetchall()\n",
    "\n",
    "def sortFirst(result): # Sorts according to the 1st element of the tuple in the list. [('first','second'),('first1', 'second1')]\n",
    "    return result[0]  \n",
    "result.sort(key = sortSecond)  \n",
    "print(result) \n",
    "\n",
    "for i in range(len(result)):\n",
    "    if result[i][0] == machineId and result[i][2] == 0:\n",
    "        return result[i][1]\n",
    "\n",
    "        "
   ]
  },
  {
   "cell_type": "markdown",
   "metadata": {},
   "source": [
    "#Pending:\n",
    "\tProduction not being affected\n",
    "\t\n",
    "\t"
   ]
  },
  {
   "cell_type": "code",
   "execution_count": null,
   "metadata": {},
   "outputs": [],
   "source": [
    "#def findProdLines(machineId):  If a machine is under maintenance in 1 production line, other machines in the same production line can also be scheduled to avoid more wastage.\n",
    "machineId = 1\n",
    "query = \"SELECT * FROM PendingMaintenance WHERE machineId=\"+str(machineId)+\";\"\n",
    "cursor.execute(query)\n",
    "\n",
    "result = cursor.fetchall()\n",
    "facility = result[0][1]\n",
    "factory = result[0][2]\n",
    "productionLine = result[0][3]\n",
    "timestamp = result[0][5]\n",
    "\n",
    "query = \"SELECT machineId,timestamp FROM PendingMaintenance WHERE facility='\"+facility+\"' AND factory='\"+factory+\"' AND productionLine='\"+productionLine+\"';\" \n",
    "cursor.execute(query)\n",
    "result = cursor.fetchall()\n",
    "for i in range(len(result)):\n",
    "    t = result[i][1]\n",
    "    if t[0:10] == timestamp[0:10]:\n",
    "        print(\"hello\")\n",
    "\n",
    "    elif timestamp[0:4] == t[0:4] and timestamp[5:7] == t[5:7]:\n",
    "        a=int(timestamp[8:10])\n",
    "        b=int(t[8:10])\n",
    "        if a == b:\n",
    "            print(\"hello\")\n",
    "        else:\n",
    "            if a > b:\n",
    "                if a - b <7:\n",
    "                    print(\"hello\")\n",
    "            else:\n",
    "                if b - a <7:\n",
    "                    print(\"hello\")\n",
    "\n",
    "    elif timestamp[0:4] == t[0:4]:\n",
    "        if int(timestamp[5:7]) > int(t[5:7]):\n",
    "            if(int(timestamp[5:7]) - int(t[5:7]) == 1):\n",
    "                if a > b:\n",
    "                    if a - b > 24:\n",
    "                        print(\"hello\")\n",
    "                else:\n",
    "                    if b - a > 24:\n",
    "                        print(\"hello\")\n",
    "        else:\n",
    "            if(int(t[5:7]) - int(timestamp[5:7]) == 1):\n",
    "                if a > b:\n",
    "                    if a - b > 24:\n",
    "                        print(\"hello\")\n",
    "                else:\n",
    "                    if b - a > 24:\n",
    "                        print(\"hello\")\n",
    "# We schedule the maintenance of the other machineId if we print hello along with the original input id"
   ]
  }
 ],
 "metadata": {
  "kernelspec": {
   "display_name": "Python 3",
   "language": "python",
   "name": "python3"
  },
  "language_info": {
   "codemirror_mode": {
    "name": "ipython",
    "version": 3
   },
   "file_extension": ".py",
   "mimetype": "text/x-python",
   "name": "python",
   "nbconvert_exporter": "python",
   "pygments_lexer": "ipython3",
   "version": "3.7.1"
  }
 },
 "nbformat": 4,
 "nbformat_minor": 2
}
